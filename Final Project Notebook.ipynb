{
 "cells": [
  {
   "cell_type": "code",
   "execution_count": 10,
   "source": [
    "import pandas as pd\n",
    "import numpy as np\n",
    "import matplotlib.pyplot as plt\n",
    "from sklearn.preprocessing import LabelEncoder\n",
    "from sklearn.metrics import accuracy_score\n",
    "from sklearn.model_selection import train_test_split\n",
    "from sklearn.tree import DecisionTreeClassifier\n",
    "from sklearn.ensemble import RandomForestClassifier\n",
    "from sklearn.metrics import plot_roc_curve\n",
    "\n",
    "breastCancerData = pd.read_csv('./DataSets/breastcancerwisconsin/breast-cancer-wisconsin.data', na_values=[\"?\"])\n",
    "wdbc = pd.read_csv('./DataSets/breastcancerwisconsin/wdbc.data')"
   ],
   "outputs": [],
   "metadata": {}
  },
  {
   "cell_type": "markdown",
   "source": [
    "### Research Question: Can we Classification ML Models to accurately predict if a rbeast cancer tumor is malignant or benign?\n",
    "\n",
    "### Testing\n",
    "\n",
    "**Data Science Steps:**\n",
    "1) Acquire\n",
    "2) Prepare\n",
    "3) Analyze\n",
    "4) Report\n",
    "5) Act\n",
    "\n",
    "# Abstract\n",
    "\n",
    "This study aims to answer the question \"Can we use Machine Learning Models to accurately predict if a breast tumor mass is malignant or benign\", specifically using the \"Breast Cancer Wisconsin (Diagnostic) Data Set\" collected by Dr. William H. Wolberg. \n",
    "\n",
    "Using Machine Learning Classification Models, including Decision Tree and Random Forest, four models were created in order to predict whether or not a tumor is malignant or benign. Two different models were created for each type of classifier (Decision Tree vs Random Forest), the difference between the two models is the impurity measure used (Gini vs Entropy). The impurity measure was used to determine the splitting of the data. \n",
    "\n",
    "All Machine Learning Models created had an accuracy score of over 94%, as well as very high AUC scores, denoting that the models performed very well against testing data.\n",
    "\n",
    "\n",
    "**WDBC feature list:**\n",
    "* ID\n",
    "* Diagnosis\n",
    "* Mean, stderr, and max extreme was retrieved for the following features: \n",
    "    * Radius \n",
    "    * Texture\n",
    "    * Perimeter\n",
    "    * Area\n",
    "    * Smoothness\n",
    "    * Compactness\n",
    "    * Concavity\n",
    "    * Concave Points\n",
    "    * Symmetry\n",
    "    * Fractal Dimension\n",
    "* NOTE: Extreme was calcculated by the mean of the three largest values\n",
    "* Total: 32 Features\n",
    "\n",
    "**Breast-cancer-wisconsin feature list:** \n",
    "* Sample Code Number\n",
    "* Class: (2 for benign, 4 for malignant)\n",
    "* The following features have been scaled 1-10 for intensity\n",
    "    * Clump Thickness\n",
    "    * Uniformity of Cell Size\n",
    "    * Uniformity of Cell Shape\n",
    "    * Marginal Adhesion\n",
    "    * Single Epithelial Cell Size\n",
    "    * Bare Nuclei\n",
    "    * Bland Chromatin\n",
    "    * Normal Nucleoli\n",
    "    * Mitoses\n",
    "* Total: 11 Features"
   ],
   "metadata": {}
  },
  {
   "cell_type": "markdown",
   "source": [
    "# Motivation:\n",
    "\n",
    "\"With 281,550 new cases of breast cancer estimated to be reported in 2021, Breast Cancer is the most commonly diagnosed cancer among American Women... Over 43,600 women are expected to die in 2021 from breast cancer\".\n",
    "\n",
    "                                                            - U.S. Breast Cancer Statistics (breastcancer.org)\n",
    "\n",
    "With the substantial amount of breast cancer in human lives today, it is the responsibility of our society that we find a way to mitigate the mortality rate of breast cancer. \n",
    "\n",
    "The early diagnosis of cancer is one of the only ways to have a better chance of having successful treatment. As such, it is imperative that we identify easier/faster/more efficient ways to identify if a woman has a malignant or benign cancer tumor. "
   ],
   "metadata": {}
  },
  {
   "cell_type": "markdown",
   "source": [
    "### Things I've done to the data: \n",
    "\n",
    "**breastCancerData:**\n",
    "* Added column names to the breast-cancer-wisconsin.data dataframe\n",
    "* Fixed the dataframe to include the one row that was read as column names initially, breastCancerData should have a total of 699 rows before removing anything\n",
    "* Removed null values from the breast-cancer-wisconsin.data dataframe\n",
    "\n",
    "**wdbc:**\n",
    "* Added column names \n",
    "* Fixed the dataframe to include the one row that was read as column names initially, there should be a total of 569 rows\n",
    "* Deleted \"ID number\" column since we won't need it"
   ],
   "metadata": {}
  },
  {
   "cell_type": "markdown",
   "source": [
    "# WDBC SECTION\n",
    "### Data Cleaning"
   ],
   "metadata": {}
  },
  {
   "cell_type": "code",
   "execution_count": 11,
   "source": [
    "#Adding Columns\n",
    "wdbc.columns = ['ID number', 'Diagnosis', 'radius_mean', 'texture_mean', 'perimeter_mean', 'area_mean', 'smoothness_mean', 'compactness_mean', 'concavity_mean', 'concave_points_mean', 'symmetry_mean', 'fractal_dimension_mean', 'radius_se', 'texture_se', 'perimeter_se', 'area_se', 'smoothness_se', 'compactness_se', 'concavity_se', 'concave_points_se', 'symmetry_se', 'fractal_dimension_se', 'radius_worst', 'texture_worst', 'perimeter_worst', 'area_worst', 'smoothness_worst', 'compactness_worst', 'concavity_worst', 'concave_points_worst', 'symmetry_worst', 'fractal_dimension_worst']"
   ],
   "outputs": [],
   "metadata": {}
  },
  {
   "cell_type": "code",
   "execution_count": 12,
   "source": [
    "wdbc.loc[0]"
   ],
   "outputs": [
    {
     "output_type": "execute_result",
     "data": {
      "text/plain": [
       "ID number                    842517\n",
       "Diagnosis                         M\n",
       "radius_mean                   20.57\n",
       "texture_mean                  17.77\n",
       "perimeter_mean                132.9\n",
       "area_mean                    1326.0\n",
       "smoothness_mean             0.08474\n",
       "compactness_mean            0.07864\n",
       "concavity_mean               0.0869\n",
       "concave_points_mean         0.07017\n",
       "symmetry_mean                0.1812\n",
       "fractal_dimension_mean      0.05667\n",
       "radius_se                    0.5435\n",
       "texture_se                   0.7339\n",
       "perimeter_se                  3.398\n",
       "area_se                       74.08\n",
       "smoothness_se              0.005225\n",
       "compactness_se              0.01308\n",
       "concavity_se                 0.0186\n",
       "concave_points_se            0.0134\n",
       "symmetry_se                 0.01389\n",
       "fractal_dimension_se       0.003532\n",
       "radius_worst                  24.99\n",
       "texture_worst                 23.41\n",
       "perimeter_worst               158.8\n",
       "area_worst                   1956.0\n",
       "smoothness_worst             0.1238\n",
       "compactness_worst            0.1866\n",
       "concavity_worst              0.2416\n",
       "concave_points_worst          0.186\n",
       "symmetry_worst                0.275\n",
       "fractal_dimension_worst     0.08902\n",
       "Name: 0, dtype: object"
      ]
     },
     "metadata": {},
     "execution_count": 12
    }
   ],
   "metadata": {}
  },
  {
   "cell_type": "code",
   "execution_count": 4,
   "source": [
    "#Adding top column\n",
    "wdbc.loc[len(wdbc.index)] = [842302, 'M', 17.99, 10.38, 122.8, 1001, 011.84, 0.2776, 0.3001, 0.1471, 0.2419, 0.07871, 1.095, 0.9053, 8.589, 153.4, 0.006399, 0.04904, 0.05373, 0.01587, 0.03003, 0.006193, 25.38, 17.33, 184.6, 2019, 0.1622, 0.6656, 0.7119, 0.2654, 0.4601, 0.1189]"
   ],
   "outputs": [],
   "metadata": {}
  },
  {
   "cell_type": "code",
   "execution_count": 5,
   "source": [
    "wdbcCopy = wdbc.copy()"
   ],
   "outputs": [],
   "metadata": {}
  },
  {
   "cell_type": "code",
   "execution_count": 6,
   "source": [
    "#Deleted ID number column since we won't need it\n",
    "del wdbcCopy['ID number']"
   ],
   "outputs": [],
   "metadata": {}
  },
  {
   "cell_type": "code",
   "execution_count": 7,
   "source": [
    "wdbc.info()\n",
    "#See that there are no nulls"
   ],
   "outputs": [
    {
     "output_type": "stream",
     "name": "stdout",
     "text": [
      "<class 'pandas.core.frame.DataFrame'>\n",
      "Int64Index: 569 entries, 0 to 568\n",
      "Data columns (total 32 columns):\n",
      " #   Column                   Non-Null Count  Dtype  \n",
      "---  ------                   --------------  -----  \n",
      " 0   ID number                569 non-null    int64  \n",
      " 1   Diagnosis                569 non-null    object \n",
      " 2   radius_mean              569 non-null    float64\n",
      " 3   texture_mean             569 non-null    float64\n",
      " 4   perimeter_mean           569 non-null    float64\n",
      " 5   area_mean                569 non-null    float64\n",
      " 6   smoothness_mean          569 non-null    float64\n",
      " 7   compactness_mean         569 non-null    float64\n",
      " 8   concavity_mean           569 non-null    float64\n",
      " 9   concave_points_mean      569 non-null    float64\n",
      " 10  symmetry_mean            569 non-null    float64\n",
      " 11  fractal_dimension_mean   569 non-null    float64\n",
      " 12  radius_se                569 non-null    float64\n",
      " 13  texture_se               569 non-null    float64\n",
      " 14  perimeter_se             569 non-null    float64\n",
      " 15  area_se                  569 non-null    float64\n",
      " 16  smoothness_se            569 non-null    float64\n",
      " 17  compactness_se           569 non-null    float64\n",
      " 18  concavity_se             569 non-null    float64\n",
      " 19  concave_points_se        569 non-null    float64\n",
      " 20  symmetry_se              569 non-null    float64\n",
      " 21  fractal_dimension_se     569 non-null    float64\n",
      " 22  radius_worst             569 non-null    float64\n",
      " 23  texture_worst            569 non-null    float64\n",
      " 24  perimeter_worst          569 non-null    float64\n",
      " 25  area_worst               569 non-null    float64\n",
      " 26  smoothness_worst         569 non-null    float64\n",
      " 27  compactness_worst        569 non-null    float64\n",
      " 28  concavity_worst          569 non-null    float64\n",
      " 29  concave_points_worst     569 non-null    float64\n",
      " 30  symmetry_worst           569 non-null    float64\n",
      " 31  fractal_dimension_worst  569 non-null    float64\n",
      "dtypes: float64(30), int64(1), object(1)\n",
      "memory usage: 146.7+ KB\n"
     ]
    }
   ],
   "metadata": {}
  },
  {
   "cell_type": "markdown",
   "source": [
    "### Data Exploration"
   ],
   "metadata": {}
  },
  {
   "cell_type": "code",
   "execution_count": 8,
   "source": [
    "wdbcCopy.head()"
   ],
   "outputs": [
    {
     "output_type": "execute_result",
     "data": {
      "text/plain": [
       "  Diagnosis  radius_mean  texture_mean  perimeter_mean  area_mean  \\\n",
       "0         M        20.57         17.77          132.90     1326.0   \n",
       "1         M        19.69         21.25          130.00     1203.0   \n",
       "2         M        11.42         20.38           77.58      386.1   \n",
       "3         M        20.29         14.34          135.10     1297.0   \n",
       "4         M        12.45         15.70           82.57      477.1   \n",
       "\n",
       "   smoothness_mean  compactness_mean  concavity_mean  concave_points_mean  \\\n",
       "0          0.08474           0.07864          0.0869              0.07017   \n",
       "1          0.10960           0.15990          0.1974              0.12790   \n",
       "2          0.14250           0.28390          0.2414              0.10520   \n",
       "3          0.10030           0.13280          0.1980              0.10430   \n",
       "4          0.12780           0.17000          0.1578              0.08089   \n",
       "\n",
       "   symmetry_mean  ...  radius_worst  texture_worst  perimeter_worst  \\\n",
       "0         0.1812  ...         24.99          23.41           158.80   \n",
       "1         0.2069  ...         23.57          25.53           152.50   \n",
       "2         0.2597  ...         14.91          26.50            98.87   \n",
       "3         0.1809  ...         22.54          16.67           152.20   \n",
       "4         0.2087  ...         15.47          23.75           103.40   \n",
       "\n",
       "   area_worst  smoothness_worst  compactness_worst  concavity_worst  \\\n",
       "0      1956.0            0.1238             0.1866           0.2416   \n",
       "1      1709.0            0.1444             0.4245           0.4504   \n",
       "2       567.7            0.2098             0.8663           0.6869   \n",
       "3      1575.0            0.1374             0.2050           0.4000   \n",
       "4       741.6            0.1791             0.5249           0.5355   \n",
       "\n",
       "   concave_points_worst  symmetry_worst  fractal_dimension_worst  \n",
       "0                0.1860          0.2750                  0.08902  \n",
       "1                0.2430          0.3613                  0.08758  \n",
       "2                0.2575          0.6638                  0.17300  \n",
       "3                0.1625          0.2364                  0.07678  \n",
       "4                0.1741          0.3985                  0.12440  \n",
       "\n",
       "[5 rows x 31 columns]"
      ],
      "text/html": [
       "<div>\n",
       "<style scoped>\n",
       "    .dataframe tbody tr th:only-of-type {\n",
       "        vertical-align: middle;\n",
       "    }\n",
       "\n",
       "    .dataframe tbody tr th {\n",
       "        vertical-align: top;\n",
       "    }\n",
       "\n",
       "    .dataframe thead th {\n",
       "        text-align: right;\n",
       "    }\n",
       "</style>\n",
       "<table border=\"1\" class=\"dataframe\">\n",
       "  <thead>\n",
       "    <tr style=\"text-align: right;\">\n",
       "      <th></th>\n",
       "      <th>Diagnosis</th>\n",
       "      <th>radius_mean</th>\n",
       "      <th>texture_mean</th>\n",
       "      <th>perimeter_mean</th>\n",
       "      <th>area_mean</th>\n",
       "      <th>smoothness_mean</th>\n",
       "      <th>compactness_mean</th>\n",
       "      <th>concavity_mean</th>\n",
       "      <th>concave_points_mean</th>\n",
       "      <th>symmetry_mean</th>\n",
       "      <th>...</th>\n",
       "      <th>radius_worst</th>\n",
       "      <th>texture_worst</th>\n",
       "      <th>perimeter_worst</th>\n",
       "      <th>area_worst</th>\n",
       "      <th>smoothness_worst</th>\n",
       "      <th>compactness_worst</th>\n",
       "      <th>concavity_worst</th>\n",
       "      <th>concave_points_worst</th>\n",
       "      <th>symmetry_worst</th>\n",
       "      <th>fractal_dimension_worst</th>\n",
       "    </tr>\n",
       "  </thead>\n",
       "  <tbody>\n",
       "    <tr>\n",
       "      <th>0</th>\n",
       "      <td>M</td>\n",
       "      <td>20.57</td>\n",
       "      <td>17.77</td>\n",
       "      <td>132.90</td>\n",
       "      <td>1326.0</td>\n",
       "      <td>0.08474</td>\n",
       "      <td>0.07864</td>\n",
       "      <td>0.0869</td>\n",
       "      <td>0.07017</td>\n",
       "      <td>0.1812</td>\n",
       "      <td>...</td>\n",
       "      <td>24.99</td>\n",
       "      <td>23.41</td>\n",
       "      <td>158.80</td>\n",
       "      <td>1956.0</td>\n",
       "      <td>0.1238</td>\n",
       "      <td>0.1866</td>\n",
       "      <td>0.2416</td>\n",
       "      <td>0.1860</td>\n",
       "      <td>0.2750</td>\n",
       "      <td>0.08902</td>\n",
       "    </tr>\n",
       "    <tr>\n",
       "      <th>1</th>\n",
       "      <td>M</td>\n",
       "      <td>19.69</td>\n",
       "      <td>21.25</td>\n",
       "      <td>130.00</td>\n",
       "      <td>1203.0</td>\n",
       "      <td>0.10960</td>\n",
       "      <td>0.15990</td>\n",
       "      <td>0.1974</td>\n",
       "      <td>0.12790</td>\n",
       "      <td>0.2069</td>\n",
       "      <td>...</td>\n",
       "      <td>23.57</td>\n",
       "      <td>25.53</td>\n",
       "      <td>152.50</td>\n",
       "      <td>1709.0</td>\n",
       "      <td>0.1444</td>\n",
       "      <td>0.4245</td>\n",
       "      <td>0.4504</td>\n",
       "      <td>0.2430</td>\n",
       "      <td>0.3613</td>\n",
       "      <td>0.08758</td>\n",
       "    </tr>\n",
       "    <tr>\n",
       "      <th>2</th>\n",
       "      <td>M</td>\n",
       "      <td>11.42</td>\n",
       "      <td>20.38</td>\n",
       "      <td>77.58</td>\n",
       "      <td>386.1</td>\n",
       "      <td>0.14250</td>\n",
       "      <td>0.28390</td>\n",
       "      <td>0.2414</td>\n",
       "      <td>0.10520</td>\n",
       "      <td>0.2597</td>\n",
       "      <td>...</td>\n",
       "      <td>14.91</td>\n",
       "      <td>26.50</td>\n",
       "      <td>98.87</td>\n",
       "      <td>567.7</td>\n",
       "      <td>0.2098</td>\n",
       "      <td>0.8663</td>\n",
       "      <td>0.6869</td>\n",
       "      <td>0.2575</td>\n",
       "      <td>0.6638</td>\n",
       "      <td>0.17300</td>\n",
       "    </tr>\n",
       "    <tr>\n",
       "      <th>3</th>\n",
       "      <td>M</td>\n",
       "      <td>20.29</td>\n",
       "      <td>14.34</td>\n",
       "      <td>135.10</td>\n",
       "      <td>1297.0</td>\n",
       "      <td>0.10030</td>\n",
       "      <td>0.13280</td>\n",
       "      <td>0.1980</td>\n",
       "      <td>0.10430</td>\n",
       "      <td>0.1809</td>\n",
       "      <td>...</td>\n",
       "      <td>22.54</td>\n",
       "      <td>16.67</td>\n",
       "      <td>152.20</td>\n",
       "      <td>1575.0</td>\n",
       "      <td>0.1374</td>\n",
       "      <td>0.2050</td>\n",
       "      <td>0.4000</td>\n",
       "      <td>0.1625</td>\n",
       "      <td>0.2364</td>\n",
       "      <td>0.07678</td>\n",
       "    </tr>\n",
       "    <tr>\n",
       "      <th>4</th>\n",
       "      <td>M</td>\n",
       "      <td>12.45</td>\n",
       "      <td>15.70</td>\n",
       "      <td>82.57</td>\n",
       "      <td>477.1</td>\n",
       "      <td>0.12780</td>\n",
       "      <td>0.17000</td>\n",
       "      <td>0.1578</td>\n",
       "      <td>0.08089</td>\n",
       "      <td>0.2087</td>\n",
       "      <td>...</td>\n",
       "      <td>15.47</td>\n",
       "      <td>23.75</td>\n",
       "      <td>103.40</td>\n",
       "      <td>741.6</td>\n",
       "      <td>0.1791</td>\n",
       "      <td>0.5249</td>\n",
       "      <td>0.5355</td>\n",
       "      <td>0.1741</td>\n",
       "      <td>0.3985</td>\n",
       "      <td>0.12440</td>\n",
       "    </tr>\n",
       "  </tbody>\n",
       "</table>\n",
       "<p>5 rows × 31 columns</p>\n",
       "</div>"
      ]
     },
     "metadata": {},
     "execution_count": 8
    }
   ],
   "metadata": {}
  },
  {
   "cell_type": "code",
   "execution_count": 9,
   "source": [
    "wdbcCopy.shape"
   ],
   "outputs": [
    {
     "output_type": "execute_result",
     "data": {
      "text/plain": [
       "(569, 31)"
      ]
     },
     "metadata": {},
     "execution_count": 9
    }
   ],
   "metadata": {}
  },
  {
   "cell_type": "code",
   "execution_count": 10,
   "source": [
    "#Number of Malignant Tumors in our DataSet\n",
    "len(wdbcCopy[wdbcCopy['Diagnosis'] == 'M'].index)"
   ],
   "outputs": [
    {
     "output_type": "execute_result",
     "data": {
      "text/plain": [
       "212"
      ]
     },
     "metadata": {},
     "execution_count": 10
    }
   ],
   "metadata": {}
  },
  {
   "cell_type": "code",
   "execution_count": 11,
   "source": [
    "#Number of Benign Tumors in our DataSet\n",
    "len(wdbcCopy[wdbcCopy['Diagnosis'] == 'B'].index)"
   ],
   "outputs": [
    {
     "output_type": "execute_result",
     "data": {
      "text/plain": [
       "357"
      ]
     },
     "metadata": {},
     "execution_count": 11
    }
   ],
   "metadata": {}
  },
  {
   "cell_type": "code",
   "execution_count": 12,
   "source": [
    "#Data Exploration, checking distributions of various features\n",
    "\n",
    "fig, axs = plt.subplots(5, 6, figsize=(20,20))\n",
    "axs[0, 0].hist(wdbcCopy['radius_mean'])\n",
    "axs[0, 0].grid()\n",
    "axs[0, 0].title.set_text('radius_mean ')\n",
    "\n",
    "axs[0, 1].hist(wdbcCopy['radius_se'])\n",
    "axs[0, 1].grid()\n",
    "axs[0, 1].title.set_text('radius_se ')\n",
    "axs[0, 1].set_xlim(0, 1)\n",
    "\n",
    "axs[0, 2].hist(wdbcCopy['radius_worst'])\n",
    "axs[0, 2].grid()\n",
    "axs[0, 2].title.set_text('radius_worst ')\n",
    "\n",
    "axs[0, 3].hist(wdbcCopy['texture_mean'])\n",
    "axs[0, 3].grid()\n",
    "axs[0, 3].title.set_text('texture_mean ')\n",
    "\n",
    "axs[0, 4].hist(wdbcCopy['texture_se'])\n",
    "axs[0, 4].grid()\n",
    "axs[0, 4].title.set_text('texture_se ')\n",
    "\n",
    "axs[0, 5].hist(wdbcCopy['texture_worst'])\n",
    "axs[0, 5].grid()\n",
    "axs[0, 5].title.set_text('texture_worst ')\n",
    "\n",
    "axs[1, 0].hist(wdbcCopy['perimeter_mean'])\n",
    "axs[1, 0].grid()\n",
    "axs[1, 0].title.set_text('perimeter_mean ')\n",
    "\n",
    "axs[1, 1].hist(wdbcCopy['perimeter_se'])\n",
    "axs[1, 1].grid()\n",
    "axs[1, 1].title.set_text('perimeter_se ')\n",
    "axs[1, 1].set_xlim(0, 12)\n",
    "\n",
    "axs[1, 2].hist(wdbcCopy['perimeter_worst'])\n",
    "axs[1, 2].grid()\n",
    "axs[1, 2].title.set_text('perimeter_worst ')\n",
    "\n",
    "axs[1, 3].hist(wdbcCopy['area_mean'])\n",
    "axs[1, 3].grid()\n",
    "axs[1, 3].title.set_text('area_mean ')\n",
    "\n",
    "axs[1, 4].hist(wdbcCopy['area_se'])\n",
    "axs[1, 4].grid()\n",
    "axs[1, 4].title.set_text('area_se ')\n",
    "\n",
    "axs[1, 5].hist(wdbcCopy['area_worst'])\n",
    "axs[1, 5].grid()\n",
    "axs[1, 5].title.set_text('area_worst ')\n",
    "\n",
    "axs[2, 0].hist(wdbcCopy['smoothness_mean'])\n",
    "axs[2, 0].grid()\n",
    "axs[2, 0].title.set_text('smoothness_mean ')\n",
    "axs[2, 0].set_xlim(0, 2)\n",
    "\n",
    "axs[2, 1].hist(wdbcCopy['smoothness_se'])\n",
    "axs[2, 1].grid()\n",
    "axs[2, 1].title.set_text('smoothness_se ')\n",
    "\n",
    "axs[2, 2].hist(wdbcCopy['smoothness_worst'])\n",
    "axs[2, 2].grid()\n",
    "axs[2, 2].title.set_text('smoothness_worst ')\n",
    "\n",
    "axs[2, 3].hist(wdbcCopy['compactness_mean'])\n",
    "axs[2, 3].grid()\n",
    "axs[2, 3].title.set_text('compactness_mean ')\n",
    "\n",
    "axs[2, 4].hist(wdbcCopy['compactness_se'])\n",
    "axs[2, 4].grid()\n",
    "axs[2, 4].title.set_text('compactness_se ')\n",
    "\n",
    "axs[2, 5].hist(wdbcCopy['compactness_worst'])\n",
    "axs[2, 5].grid()\n",
    "axs[2, 5].title.set_text('compactness_worst ')\n",
    "\n",
    "axs[3, 0].hist(wdbcCopy['concavity_mean'])\n",
    "axs[3, 0].grid()\n",
    "axs[3, 0].title.set_text('concavity_mean ')\n",
    "\n",
    "axs[3, 1].hist(wdbcCopy['concavity_se'])\n",
    "axs[3, 1].grid()\n",
    "axs[3, 1].title.set_text('concavity_se ')\n",
    "\n",
    "axs[3, 2].hist(wdbcCopy['concavity_worst'])\n",
    "axs[3, 2].grid()\n",
    "axs[3, 2].title.set_text('concavity_worst ')\n",
    "\n",
    "axs[3, 3].hist(wdbcCopy['concave_points_mean'])\n",
    "axs[3, 3].grid()\n",
    "axs[3, 3].title.set_text('concavity_points_mean ')\n",
    "\n",
    "axs[3, 4].hist(wdbcCopy['concave_points_se'])\n",
    "axs[3, 4].grid()\n",
    "axs[3, 4].title.set_text('concave_points_se ')\n",
    "\n",
    "axs[3, 5].hist(wdbcCopy['concave_points_worst'])\n",
    "axs[3, 5].grid()\n",
    "axs[3, 5].title.set_text('concave_points_worst ')\n",
    "\n",
    "axs[4, 0].hist(wdbcCopy['symmetry_mean'])\n",
    "axs[4, 0].grid()\n",
    "axs[4, 0].title.set_text('symmetry_mean')\n",
    "\n",
    "axs[4, 1].hist(wdbcCopy['symmetry_se'])\n",
    "axs[4, 1].grid()\n",
    "axs[4, 1].title.set_text('symmetry_se')\n",
    "\n",
    "axs[4, 2].hist(wdbcCopy['symmetry_worst'])\n",
    "axs[4, 2].grid()\n",
    "axs[4, 2].title.set_text('symmetry_worst')\n",
    "\n",
    "axs[4, 3].hist(wdbcCopy['fractal_dimension_mean'])\n",
    "axs[4, 3].grid()\n",
    "axs[4, 3].title.set_text('fractal_dimension_mean')\n",
    "\n",
    "axs[4, 4].hist(wdbcCopy['fractal_dimension_se'])\n",
    "axs[4, 4].grid()\n",
    "axs[4, 4].title.set_text('fractal_dimension_se')\n",
    "\n",
    "axs[4, 5].hist(wdbcCopy['fractal_dimension_worst'])\n",
    "axs[4, 5].grid()\n",
    "axs[4, 5].title.set_text('fractal_dimension_worst')\n",
    "\n",
    "plt.grid(True)\n",
    "plt.show()"
   ],
   "outputs": [
    {
     "output_type": "display_data",
     "data": {
      "text/plain": [
       "<Figure size 1440x1440 with 30 Axes>"
      ],
      "image/png": "[encoded data removed]"
     },
     "metadata": {
      "needs_background": "light"
     }
    }
   ],
   "metadata": {}
  },
  {
   "cell_type": "code",
   "execution_count": 13,
   "source": [
    "#Converting into a classification task\n",
    "copiedData = wdbcCopy.copy()\n",
    "copiedData['diagnosis_label'] = (copiedData['Diagnosis'] == 'M') * 1"
   ],
   "outputs": [],
   "metadata": {}
  },
  {
   "cell_type": "code",
   "execution_count": 14,
   "source": [
    "#copiedData.head()\n",
    "copiedData[copiedData['Diagnosis'] == 'B']"
   ],
   "outputs": [
    {
     "output_type": "execute_result",
     "data": {
      "text/plain": [
       "    Diagnosis  radius_mean  texture_mean  perimeter_mean  area_mean  \\\n",
       "18          B       13.540         14.36           87.46      566.3   \n",
       "19          B       13.080         15.71           85.63      520.0   \n",
       "20          B        9.504         12.44           60.34      273.9   \n",
       "36          B       13.030         18.42           82.61      523.8   \n",
       "45          B        8.196         16.84           51.71      201.9   \n",
       "..        ...          ...           ...             ...        ...   \n",
       "557         B       14.590         22.68           96.39      657.1   \n",
       "558         B       11.510         23.93           74.52      403.5   \n",
       "559         B       14.050         27.15           91.38      600.4   \n",
       "560         B       11.200         29.37           70.67      386.0   \n",
       "567         B        7.760         24.54           47.92      181.0   \n",
       "\n",
       "     smoothness_mean  compactness_mean  concavity_mean  concave_points_mean  \\\n",
       "18           0.09779           0.08129         0.06664             0.047810   \n",
       "19           0.10750           0.12700         0.04568             0.031100   \n",
       "20           0.10240           0.06492         0.02956             0.020760   \n",
       "36           0.08983           0.03766         0.02562             0.029230   \n",
       "45           0.08600           0.05943         0.01588             0.005917   \n",
       "..               ...               ...             ...                  ...   \n",
       "557          0.08473           0.13300         0.10290             0.037360   \n",
       "558          0.09261           0.10210         0.11120             0.041050   \n",
       "559          0.09929           0.11260         0.04462             0.043040   \n",
       "560          0.07449           0.03558         0.00000             0.000000   \n",
       "567          0.05263           0.04362         0.00000             0.000000   \n",
       "\n",
       "     symmetry_mean  ...  texture_worst  perimeter_worst  area_worst  \\\n",
       "18          0.1885  ...          19.26            99.70       711.2   \n",
       "19          0.1967  ...          20.49            96.09       630.5   \n",
       "20          0.1815  ...          15.66            65.13       314.9   \n",
       "36          0.1467  ...          22.81            84.46       545.9   \n",
       "45          0.1769  ...          21.96            57.26       242.2   \n",
       "..             ...  ...            ...              ...         ...   \n",
       "557         0.1454  ...          27.27           105.90       733.5   \n",
       "558         0.1388  ...          37.16            82.28       474.2   \n",
       "559         0.1537  ...          33.17           100.20       706.7   \n",
       "560         0.1060  ...          38.30            75.19       439.6   \n",
       "567         0.1587  ...          30.37            59.16       268.6   \n",
       "\n",
       "     smoothness_worst  compactness_worst  concavity_worst  \\\n",
       "18            0.14400            0.17730          0.23900   \n",
       "19            0.13120            0.27760          0.18900   \n",
       "20            0.13240            0.11480          0.08867   \n",
       "36            0.09701            0.04619          0.04833   \n",
       "45            0.12970            0.13570          0.06880   \n",
       "..                ...                ...              ...   \n",
       "557           0.10260            0.31710          0.36620   \n",
       "558           0.12980            0.25170          0.36300   \n",
       "559           0.12410            0.22640          0.13260   \n",
       "560           0.09267            0.05494          0.00000   \n",
       "567           0.08996            0.06444          0.00000   \n",
       "\n",
       "     concave_points_worst  symmetry_worst  fractal_dimension_worst  \\\n",
       "18                0.12880          0.2977                  0.07259   \n",
       "19                0.07283          0.3184                  0.08183   \n",
       "20                0.06227          0.2450                  0.07773   \n",
       "36                0.05013          0.1987                  0.06169   \n",
       "45                0.02564          0.3105                  0.07409   \n",
       "..                    ...             ...                      ...   \n",
       "557               0.11050          0.2258                  0.08004   \n",
       "558               0.09653          0.2112                  0.08732   \n",
       "559               0.10480          0.2250                  0.08321   \n",
       "560               0.00000          0.1566                  0.05905   \n",
       "567               0.00000          0.2871                  0.07039   \n",
       "\n",
       "     diagnosis_label  \n",
       "18                 0  \n",
       "19                 0  \n",
       "20                 0  \n",
       "36                 0  \n",
       "45                 0  \n",
       "..               ...  \n",
       "557                0  \n",
       "558                0  \n",
       "559                0  \n",
       "560                0  \n",
       "567                0  \n",
       "\n",
       "[357 rows x 32 columns]"
      ],
      "text/html": [
       "<div>\n",
       "<style scoped>\n",
       "    .dataframe tbody tr th:only-of-type {\n",
       "        vertical-align: middle;\n",
       "    }\n",
       "\n",
       "    .dataframe tbody tr th {\n",
       "        vertical-align: top;\n",
       "    }\n",
       "\n",
       "    .dataframe thead th {\n",
       "        text-align: right;\n",
       "    }\n",
       "</style>\n",
       "<table border=\"1\" class=\"dataframe\">\n",
       "  <thead>\n",
       "    <tr style=\"text-align: right;\">\n",
       "      <th></th>\n",
       "      <th>Diagnosis</th>\n",
       "      <th>radius_mean</th>\n",
       "      <th>texture_mean</th>\n",
       "      <th>perimeter_mean</th>\n",
       "      <th>area_mean</th>\n",
       "      <th>smoothness_mean</th>\n",
       "      <th>compactness_mean</th>\n",
       "      <th>concavity_mean</th>\n",
       "      <th>concave_points_mean</th>\n",
       "      <th>symmetry_mean</th>\n",
       "      <th>...</th>\n",
       "      <th>texture_worst</th>\n",
       "      <th>perimeter_worst</th>\n",
       "      <th>area_worst</th>\n",
       "      <th>smoothness_worst</th>\n",
       "      <th>compactness_worst</th>\n",
       "      <th>concavity_worst</th>\n",
       "      <th>concave_points_worst</th>\n",
       "      <th>symmetry_worst</th>\n",
       "      <th>fractal_dimension_worst</th>\n",
       "      <th>diagnosis_label</th>\n",
       "    </tr>\n",
       "  </thead>\n",
       "  <tbody>\n",
       "    <tr>\n",
       "      <th>18</th>\n",
       "      <td>B</td>\n",
       "      <td>13.540</td>\n",
       "      <td>14.36</td>\n",
       "      <td>87.46</td>\n",
       "      <td>566.3</td>\n",
       "      <td>0.09779</td>\n",
       "      <td>0.08129</td>\n",
       "      <td>0.06664</td>\n",
       "      <td>0.047810</td>\n",
       "      <td>0.1885</td>\n",
       "      <td>...</td>\n",
       "      <td>19.26</td>\n",
       "      <td>99.70</td>\n",
       "      <td>711.2</td>\n",
       "      <td>0.14400</td>\n",
       "      <td>0.17730</td>\n",
       "      <td>0.23900</td>\n",
       "      <td>0.12880</td>\n",
       "      <td>0.2977</td>\n",
       "      <td>0.07259</td>\n",
       "      <td>0</td>\n",
       "    </tr>\n",
       "    <tr>\n",
       "      <th>19</th>\n",
       "      <td>B</td>\n",
       "      <td>13.080</td>\n",
       "      <td>15.71</td>\n",
       "      <td>85.63</td>\n",
       "      <td>520.0</td>\n",
       "      <td>0.10750</td>\n",
       "      <td>0.12700</td>\n",
       "      <td>0.04568</td>\n",
       "      <td>0.031100</td>\n",
       "      <td>0.1967</td>\n",
       "      <td>...</td>\n",
       "      <td>20.49</td>\n",
       "      <td>96.09</td>\n",
       "      <td>630.5</td>\n",
       "      <td>0.13120</td>\n",
       "      <td>0.27760</td>\n",
       "      <td>0.18900</td>\n",
       "      <td>0.07283</td>\n",
       "      <td>0.3184</td>\n",
       "      <td>0.08183</td>\n",
       "      <td>0</td>\n",
       "    </tr>\n",
       "    <tr>\n",
       "      <th>20</th>\n",
       "      <td>B</td>\n",
       "      <td>9.504</td>\n",
       "      <td>12.44</td>\n",
       "      <td>60.34</td>\n",
       "      <td>273.9</td>\n",
       "      <td>0.10240</td>\n",
       "      <td>0.06492</td>\n",
       "      <td>0.02956</td>\n",
       "      <td>0.020760</td>\n",
       "      <td>0.1815</td>\n",
       "      <td>...</td>\n",
       "      <td>15.66</td>\n",
       "      <td>65.13</td>\n",
       "      <td>314.9</td>\n",
       "      <td>0.13240</td>\n",
       "      <td>0.11480</td>\n",
       "      <td>0.08867</td>\n",
       "      <td>0.06227</td>\n",
       "      <td>0.2450</td>\n",
       "      <td>0.07773</td>\n",
       "      <td>0</td>\n",
       "    </tr>\n",
       "    <tr>\n",
       "      <th>36</th>\n",
       "      <td>B</td>\n",
       "      <td>13.030</td>\n",
       "      <td>18.42</td>\n",
       "      <td>82.61</td>\n",
       "      <td>523.8</td>\n",
       "      <td>0.08983</td>\n",
       "      <td>0.03766</td>\n",
       "      <td>0.02562</td>\n",
       "      <td>0.029230</td>\n",
       "      <td>0.1467</td>\n",
       "      <td>...</td>\n",
       "      <td>22.81</td>\n",
       "      <td>84.46</td>\n",
       "      <td>545.9</td>\n",
       "      <td>0.09701</td>\n",
       "      <td>0.04619</td>\n",
       "      <td>0.04833</td>\n",
       "      <td>0.05013</td>\n",
       "      <td>0.1987</td>\n",
       "      <td>0.06169</td>\n",
       "      <td>0</td>\n",
       "    </tr>\n",
       "    <tr>\n",
       "      <th>45</th>\n",
       "      <td>B</td>\n",
       "      <td>8.196</td>\n",
       "      <td>16.84</td>\n",
       "      <td>51.71</td>\n",
       "      <td>201.9</td>\n",
       "      <td>0.08600</td>\n",
       "      <td>0.05943</td>\n",
       "      <td>0.01588</td>\n",
       "      <td>0.005917</td>\n",
       "      <td>0.1769</td>\n",
       "      <td>...</td>\n",
       "      <td>21.96</td>\n",
       "      <td>57.26</td>\n",
       "      <td>242.2</td>\n",
       "      <td>0.12970</td>\n",
       "      <td>0.13570</td>\n",
       "      <td>0.06880</td>\n",
       "      <td>0.02564</td>\n",
       "      <td>0.3105</td>\n",
       "      <td>0.07409</td>\n",
       "      <td>0</td>\n",
       "    </tr>\n",
       "    <tr>\n",
       "      <th>...</th>\n",
       "      <td>...</td>\n",
       "      <td>...</td>\n",
       "      <td>...</td>\n",
       "      <td>...</td>\n",
       "      <td>...</td>\n",
       "      <td>...</td>\n",
       "      <td>...</td>\n",
       "      <td>...</td>\n",
       "      <td>...</td>\n",
       "      <td>...</td>\n",
       "      <td>...</td>\n",
       "      <td>...</td>\n",
       "      <td>...</td>\n",
       "      <td>...</td>\n",
       "      <td>...</td>\n",
       "      <td>...</td>\n",
       "      <td>...</td>\n",
       "      <td>...</td>\n",
       "      <td>...</td>\n",
       "      <td>...</td>\n",
       "      <td>...</td>\n",
       "    </tr>\n",
       "    <tr>\n",
       "      <th>557</th>\n",
       "      <td>B</td>\n",
       "      <td>14.590</td>\n",
       "      <td>22.68</td>\n",
       "      <td>96.39</td>\n",
       "      <td>657.1</td>\n",
       "      <td>0.08473</td>\n",
       "      <td>0.13300</td>\n",
       "      <td>0.10290</td>\n",
       "      <td>0.037360</td>\n",
       "      <td>0.1454</td>\n",
       "      <td>...</td>\n",
       "      <td>27.27</td>\n",
       "      <td>105.90</td>\n",
       "      <td>733.5</td>\n",
       "      <td>0.10260</td>\n",
       "      <td>0.31710</td>\n",
       "      <td>0.36620</td>\n",
       "      <td>0.11050</td>\n",
       "      <td>0.2258</td>\n",
       "      <td>0.08004</td>\n",
       "      <td>0</td>\n",
       "    </tr>\n",
       "    <tr>\n",
       "      <th>558</th>\n",
       "      <td>B</td>\n",
       "      <td>11.510</td>\n",
       "      <td>23.93</td>\n",
       "      <td>74.52</td>\n",
       "      <td>403.5</td>\n",
       "      <td>0.09261</td>\n",
       "      <td>0.10210</td>\n",
       "      <td>0.11120</td>\n",
       "      <td>0.041050</td>\n",
       "      <td>0.1388</td>\n",
       "      <td>...</td>\n",
       "      <td>37.16</td>\n",
       "      <td>82.28</td>\n",
       "      <td>474.2</td>\n",
       "      <td>0.12980</td>\n",
       "      <td>0.25170</td>\n",
       "      <td>0.36300</td>\n",
       "      <td>0.09653</td>\n",
       "      <td>0.2112</td>\n",
       "      <td>0.08732</td>\n",
       "      <td>0</td>\n",
       "    </tr>\n",
       "    <tr>\n",
       "      <th>559</th>\n",
       "      <td>B</td>\n",
       "      <td>14.050</td>\n",
       "      <td>27.15</td>\n",
       "      <td>91.38</td>\n",
       "      <td>600.4</td>\n",
       "      <td>0.09929</td>\n",
       "      <td>0.11260</td>\n",
       "      <td>0.04462</td>\n",
       "      <td>0.043040</td>\n",
       "      <td>0.1537</td>\n",
       "      <td>...</td>\n",
       "      <td>33.17</td>\n",
       "      <td>100.20</td>\n",
       "      <td>706.7</td>\n",
       "      <td>0.12410</td>\n",
       "      <td>0.22640</td>\n",
       "      <td>0.13260</td>\n",
       "      <td>0.10480</td>\n",
       "      <td>0.2250</td>\n",
       "      <td>0.08321</td>\n",
       "      <td>0</td>\n",
       "    </tr>\n",
       "    <tr>\n",
       "      <th>560</th>\n",
       "      <td>B</td>\n",
       "      <td>11.200</td>\n",
       "      <td>29.37</td>\n",
       "      <td>70.67</td>\n",
       "      <td>386.0</td>\n",
       "      <td>0.07449</td>\n",
       "      <td>0.03558</td>\n",
       "      <td>0.00000</td>\n",
       "      <td>0.000000</td>\n",
       "      <td>0.1060</td>\n",
       "      <td>...</td>\n",
       "      <td>38.30</td>\n",
       "      <td>75.19</td>\n",
       "      <td>439.6</td>\n",
       "      <td>0.09267</td>\n",
       "      <td>0.05494</td>\n",
       "      <td>0.00000</td>\n",
       "      <td>0.00000</td>\n",
       "      <td>0.1566</td>\n",
       "      <td>0.05905</td>\n",
       "      <td>0</td>\n",
       "    </tr>\n",
       "    <tr>\n",
       "      <th>567</th>\n",
       "      <td>B</td>\n",
       "      <td>7.760</td>\n",
       "      <td>24.54</td>\n",
       "      <td>47.92</td>\n",
       "      <td>181.0</td>\n",
       "      <td>0.05263</td>\n",
       "      <td>0.04362</td>\n",
       "      <td>0.00000</td>\n",
       "      <td>0.000000</td>\n",
       "      <td>0.1587</td>\n",
       "      <td>...</td>\n",
       "      <td>30.37</td>\n",
       "      <td>59.16</td>\n",
       "      <td>268.6</td>\n",
       "      <td>0.08996</td>\n",
       "      <td>0.06444</td>\n",
       "      <td>0.00000</td>\n",
       "      <td>0.00000</td>\n",
       "      <td>0.2871</td>\n",
       "      <td>0.07039</td>\n",
       "      <td>0</td>\n",
       "    </tr>\n",
       "  </tbody>\n",
       "</table>\n",
       "<p>357 rows × 32 columns</p>\n",
       "</div>"
      ]
     },
     "metadata": {},
     "execution_count": 14
    }
   ],
   "metadata": {}
  },
  {
   "cell_type": "code",
   "execution_count": 15,
   "source": [
    "y = copiedData[['diagnosis_label']].copy()"
   ],
   "outputs": [],
   "metadata": {}
  },
  {
   "cell_type": "code",
   "execution_count": 16,
   "source": [
    "y.head()"
   ],
   "outputs": [
    {
     "output_type": "execute_result",
     "data": {
      "text/plain": [
       "   diagnosis_label\n",
       "0                1\n",
       "1                1\n",
       "2                1\n",
       "3                1\n",
       "4                1"
      ],
      "text/html": [
       "<div>\n",
       "<style scoped>\n",
       "    .dataframe tbody tr th:only-of-type {\n",
       "        vertical-align: middle;\n",
       "    }\n",
       "\n",
       "    .dataframe tbody tr th {\n",
       "        vertical-align: top;\n",
       "    }\n",
       "\n",
       "    .dataframe thead th {\n",
       "        text-align: right;\n",
       "    }\n",
       "</style>\n",
       "<table border=\"1\" class=\"dataframe\">\n",
       "  <thead>\n",
       "    <tr style=\"text-align: right;\">\n",
       "      <th></th>\n",
       "      <th>diagnosis_label</th>\n",
       "    </tr>\n",
       "  </thead>\n",
       "  <tbody>\n",
       "    <tr>\n",
       "      <th>0</th>\n",
       "      <td>1</td>\n",
       "    </tr>\n",
       "    <tr>\n",
       "      <th>1</th>\n",
       "      <td>1</td>\n",
       "    </tr>\n",
       "    <tr>\n",
       "      <th>2</th>\n",
       "      <td>1</td>\n",
       "    </tr>\n",
       "    <tr>\n",
       "      <th>3</th>\n",
       "      <td>1</td>\n",
       "    </tr>\n",
       "    <tr>\n",
       "      <th>4</th>\n",
       "      <td>1</td>\n",
       "    </tr>\n",
       "  </tbody>\n",
       "</table>\n",
       "</div>"
      ]
     },
     "metadata": {},
     "execution_count": 16
    }
   ],
   "metadata": {}
  },
  {
   "cell_type": "code",
   "execution_count": 17,
   "source": [
    "copiedData['Diagnosis'].head()"
   ],
   "outputs": [
    {
     "output_type": "execute_result",
     "data": {
      "text/plain": [
       "0    M\n",
       "1    M\n",
       "2    M\n",
       "3    M\n",
       "4    M\n",
       "Name: Diagnosis, dtype: object"
      ]
     },
     "metadata": {},
     "execution_count": 17
    }
   ],
   "metadata": {}
  },
  {
   "cell_type": "code",
   "execution_count": 18,
   "source": [
    "X = copiedData.copy()\n",
    "del X['Diagnosis']\n",
    "del X['diagnosis_label']"
   ],
   "outputs": [],
   "metadata": {}
  },
  {
   "cell_type": "code",
   "execution_count": 19,
   "source": [
    "X.columns"
   ],
   "outputs": [
    {
     "output_type": "execute_result",
     "data": {
      "text/plain": [
       "Index(['radius_mean', 'texture_mean', 'perimeter_mean', 'area_mean',\n",
       "       'smoothness_mean', 'compactness_mean', 'concavity_mean',\n",
       "       'concave_points_mean', 'symmetry_mean', 'fractal_dimension_mean',\n",
       "       'radius_se', 'texture_se', 'perimeter_se', 'area_se', 'smoothness_se',\n",
       "       'compactness_se', 'concavity_se', 'concave_points_se', 'symmetry_se',\n",
       "       'fractal_dimension_se', 'radius_worst', 'texture_worst',\n",
       "       'perimeter_worst', 'area_worst', 'smoothness_worst',\n",
       "       'compactness_worst', 'concavity_worst', 'concave_points_worst',\n",
       "       'symmetry_worst', 'fractal_dimension_worst'],\n",
       "      dtype='object')"
      ]
     },
     "metadata": {},
     "execution_count": 19
    }
   ],
   "metadata": {}
  },
  {
   "cell_type": "code",
   "execution_count": 20,
   "source": [
    "y.columns"
   ],
   "outputs": [
    {
     "output_type": "execute_result",
     "data": {
      "text/plain": [
       "Index(['diagnosis_label'], dtype='object')"
      ]
     },
     "metadata": {},
     "execution_count": 20
    }
   ],
   "metadata": {}
  },
  {
   "cell_type": "markdown",
   "source": [
    "Now we have our y (our label/output), and x (our data/input)\n",
    "\n",
    "### Decision Tree Classifier with Gini Impurity Measure"
   ],
   "metadata": {}
  },
  {
   "cell_type": "code",
   "execution_count": 21,
   "source": [
    "X_train, X_test, y_train, y_test = train_test_split(X, y, test_size=0.33, random_state=69)"
   ],
   "outputs": [],
   "metadata": {}
  },
  {
   "cell_type": "code",
   "execution_count": 22,
   "source": [
    "accuracyScores = []\n",
    "accuracyScoreLabels = ['Decision Tree with Gini', 'Decision Tree with Entropy', 'Random Forest with Gini', 'Random Forest with Entropy']"
   ],
   "outputs": [],
   "metadata": {}
  },
  {
   "cell_type": "code",
   "execution_count": 23,
   "source": [
    "#Basic DecisionTreeClassifier, criterion = gini\n",
    "giniDecisionTree = DecisionTreeClassifier(random_state=69)\n",
    "giniDecisionTree.fit(X_train, y_train)"
   ],
   "outputs": [
    {
     "output_type": "execute_result",
     "data": {
      "text/plain": [
       "DecisionTreeClassifier(random_state=69)"
      ]
     },
     "metadata": {},
     "execution_count": 23
    }
   ],
   "metadata": {}
  },
  {
   "cell_type": "code",
   "execution_count": 24,
   "source": [
    "#Testing our model\n",
    "giniDecisionTreePredictions = giniDecisionTree.predict(X_test)"
   ],
   "outputs": [],
   "metadata": {}
  },
  {
   "cell_type": "code",
   "execution_count": 25,
   "source": [
    "accuracyScores.append(accuracy_score(y_true = y_test, y_pred = giniDecisionTreePredictions))"
   ],
   "outputs": [],
   "metadata": {}
  },
  {
   "cell_type": "markdown",
   "source": [
    "### Decision Tree Classifier with Entropy Impurity Measure"
   ],
   "metadata": {}
  },
  {
   "cell_type": "code",
   "execution_count": 26,
   "source": [
    "#entropy DecisionTree\n",
    "entropyDecisionTree = DecisionTreeClassifier(criterion = 'entropy', random_state=69)\n",
    "entropyDecisionTree.fit(X_train, y_train)"
   ],
   "outputs": [
    {
     "output_type": "execute_result",
     "data": {
      "text/plain": [
       "DecisionTreeClassifier(criterion='entropy', random_state=69)"
      ]
     },
     "metadata": {},
     "execution_count": 26
    }
   ],
   "metadata": {}
  },
  {
   "cell_type": "code",
   "execution_count": 27,
   "source": [
    "entropyDecisionTreePredictions = entropyDecisionTree.predict(X_test)"
   ],
   "outputs": [],
   "metadata": {}
  },
  {
   "cell_type": "code",
   "execution_count": 28,
   "source": [
    "accuracyScores.append(accuracy_score(y_true = y_test, y_pred = entropyDecisionTreePredictions))"
   ],
   "outputs": [],
   "metadata": {}
  },
  {
   "cell_type": "markdown",
   "source": [
    "### Random Forest Classifier with Gini Impurity Measure"
   ],
   "metadata": {}
  },
  {
   "cell_type": "code",
   "execution_count": 29,
   "source": [
    "giniRandomForest = RandomForestClassifier(criterion='gini', random_state=69, n_estimators=10)\n",
    "giniRandomForest.fit(X_train, y_train['diagnosis_label'])"
   ],
   "outputs": [
    {
     "output_type": "execute_result",
     "data": {
      "text/plain": [
       "RandomForestClassifier(n_estimators=10, random_state=69)"
      ]
     },
     "metadata": {},
     "execution_count": 29
    }
   ],
   "metadata": {}
  },
  {
   "cell_type": "code",
   "execution_count": 30,
   "source": [
    "giniRandomForestPredictions = giniRandomForest.predict(X_test)"
   ],
   "outputs": [],
   "metadata": {}
  },
  {
   "cell_type": "code",
   "execution_count": 31,
   "source": [
    "giniRandomForestPredictions[:10]"
   ],
   "outputs": [
    {
     "output_type": "execute_result",
     "data": {
      "text/plain": [
       "array([0, 1, 1, 1, 0, 1, 0, 0, 0, 1])"
      ]
     },
     "metadata": {},
     "execution_count": 31
    }
   ],
   "metadata": {}
  },
  {
   "cell_type": "code",
   "execution_count": 32,
   "source": [
    "accuracyScores.append(accuracy_score(y_true=y_test, y_pred=giniRandomForestPredictions))"
   ],
   "outputs": [],
   "metadata": {}
  },
  {
   "cell_type": "markdown",
   "source": [
    "### Random Forest Classifier with Entropy Impurity Measure"
   ],
   "metadata": {}
  },
  {
   "cell_type": "code",
   "execution_count": 33,
   "source": [
    "entropyRandomForest = RandomForestClassifier(criterion='entropy', random_state=69, n_estimators=10)\n",
    "entropyRandomForest.fit(X_train, y_train['diagnosis_label'])"
   ],
   "outputs": [
    {
     "output_type": "execute_result",
     "data": {
      "text/plain": [
       "RandomForestClassifier(criterion='entropy', n_estimators=10, random_state=69)"
      ]
     },
     "metadata": {},
     "execution_count": 33
    }
   ],
   "metadata": {}
  },
  {
   "cell_type": "code",
   "execution_count": 34,
   "source": [
    "entropyRandomForestPredictions = entropyRandomForest.predict(X_test)"
   ],
   "outputs": [],
   "metadata": {}
  },
  {
   "cell_type": "code",
   "execution_count": 35,
   "source": [
    "entropyRandomForestPredictions.ptp()"
   ],
   "outputs": [
    {
     "output_type": "execute_result",
     "data": {
      "text/plain": [
       "1"
      ]
     },
     "metadata": {},
     "execution_count": 35
    }
   ],
   "metadata": {}
  },
  {
   "cell_type": "code",
   "execution_count": 36,
   "source": [
    "accuracyScores.append(accuracy_score(y_true=y_test, y_pred=entropyRandomForestPredictions))"
   ],
   "outputs": [],
   "metadata": {}
  },
  {
   "cell_type": "code",
   "execution_count": 37,
   "source": [
    "fig, ax = plt.subplots()\n",
    "\n",
    "ax.bar(accuracyScoreLabels, accuracyScores, color = ['lightsalmon', 'darksalmon', 'peachpuff', 'moccasin'])\n",
    "ax.set_title('Accuracy Scores for each Classifier')\n",
    "ax.set_xlabel('Classifier')\n",
    "ax.set_ylabel('Accuracy Score (%)')\n",
    "plt.xticks(rotation=45)\n",
    "\n",
    "xlocs, xlabs = plt.xticks()\n",
    "for index, value in enumerate(accuracyScores):\n",
    "    plt.text(xlocs[index] - 0.18, value + 0.0035, str(round(value*100, 2)), color='black')\n",
    "\n",
    "plt.rcParams['text.color'] = 'black'\n",
    "plt.rcParams['axes.labelcolor'] = 'black'\n",
    "plt.rcParams['xtick.color'] = 'black'\n",
    "plt.rcParams['ytick.color'] = 'black'\n",
    "plt.show()"
   ],
   "outputs": [
    {
     "output_type": "display_data",
     "data": {
      "text/plain": [
       "<Figure size 432x288 with 1 Axes>"
      ],
      "image/png": "[encoded data removed]"
     },
     "metadata": {
      "needs_background": "light"
     }
    }
   ],
   "metadata": {}
  },
  {
   "cell_type": "markdown",
   "source": [
    "We can see from above, that all models have **over a 90% accuracy score**. with the Random Forest with Entropy Impurity Measure Model being the most accurate. "
   ],
   "metadata": {}
  },
  {
   "cell_type": "markdown",
   "source": [
    "### ROC Curve to Visualize Model Performance"
   ],
   "metadata": {}
  },
  {
   "cell_type": "code",
   "execution_count": 46,
   "source": [
    "fig, ax = plt.subplots(figsize=(7, 7))\n",
    "entropyDecisionTree_disp = plot_roc_curve(entropyDecisionTree, X_test, y_test, ax=ax,  alpha=0.8)\n",
    "#giniDecisionTree_disp.plot(ax=ax, alpha=0.8)\n",
    "giniRandomForest_disp = plot_roc_curve(giniRandomForest, X_test, y_test, ax=ax, alpha=0.8)\n",
    "plt.title(\"ROC Curves\")\n",
    "plt.show()\n",
    "#entropyRandomForest_disp = plot_roc_curve(entropyRandomForest, X_test, y_test, ax=ax, alpha=0.8, pos_label=1)"
   ],
   "outputs": [
    {
     "output_type": "display_data",
     "data": {
      "text/plain": [
       "<Figure size 504x504 with 1 Axes>"
      ],
      "image/png": "[encoded data removed]"
     },
     "metadata": {
      "needs_background": "light"
     }
    }
   ],
   "metadata": {}
  },
  {
   "cell_type": "markdown",
   "source": [
    "Here we plotted the ROC (Receiver Operating Characteristic) curves for two of our created models: **Decision Tree with Entropy Criterion**, and **Random Forest with Entropy Criterion**. \n",
    "\n",
    "We can see from the curve that the **false positive rate is low**, and the **true positive rate is high**, which means our models are performing well. \n",
    "\n",
    "Area Under the Curve (AUC) is another measure of model performance, which also has very high scores. \n",
    "\n",
    "Our Random Forest Classifier has a slightly higher AUC, which means it performs slightly better than our Decision Tree Classifier. "
   ],
   "metadata": {}
  },
  {
   "cell_type": "markdown",
   "source": [],
   "metadata": {}
  }
 ],
 "metadata": {
  "kernelspec": {
   "display_name": "Python 3 (ipykernel)",
   "language": "python",
   "name": "python3"
  },
  "language_info": {
   "codemirror_mode": {
    "name": "ipython",
    "version": 3
   },
   "file_extension": ".py",
   "mimetype": "text/x-python",
   "name": "python",
   "nbconvert_exporter": "python",
   "pygments_lexer": "ipython3",
   "version": "3.9.6"
  }
 },
 "nbformat": 4,
 "nbformat_minor": 4
}